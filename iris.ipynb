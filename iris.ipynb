{
 "cells": [
  {
   "cell_type": "markdown",
   "id": "a37f6810-456e-44fe-866c-e5a320ba527d",
   "metadata": {},
   "source": [
    "**Import the libraries**"
   ]
  },
  {
   "cell_type": "code",
   "execution_count": 8,
   "id": "fc3b582f-5f89-4b17-8154-ce9a5ede4159",
   "metadata": {},
   "outputs": [],
   "source": [
    "import numpy as np\n",
    "import pandas as pd\n",
    "from sklearn.datasets import load_iris\n",
    "from sklearn.model_selection import train_test_split\n",
    "from sklearn.linear_model import LogisticRegression\n",
    "from sklearn.neighbors import KNeighborsClassifier\n",
    "from sklearn.naive_bayes import GaussianNB, BernoulliNB, MultinomialNB\n",
    "from sklearn.tree import DecisionTreeClassifier\n",
    "from sklearn.ensemble import RandomForestClassifier\n",
    "from xgboost import XGBClassifier\n",
    "from sklearn.svm import SVC\n",
    "from sklearn.metrics import accuracy_score, precision_score, recall_score, f1_score"
   ]
  },
  {
   "cell_type": "markdown",
   "id": "3df56501-460a-4025-bc9d-98e972aeb35f",
   "metadata": {},
   "source": [
    "**Load the dataset and start the splitting**"
   ]
  },
  {
   "cell_type": "code",
   "execution_count": 11,
   "id": "82e7379b-2b68-4f54-b65b-b3f82dcaa933",
   "metadata": {},
   "outputs": [],
   "source": [
    "# Load the Iris dataset\n",
    "iris = load_iris()\n",
    "X = iris.data\n",
    "y = iris.target\n"
   ]
  },
  {
   "cell_type": "code",
   "execution_count": 13,
   "id": "d3da257d-be29-4301-ac87-a5707058bb34",
   "metadata": {},
   "outputs": [],
   "source": [
    "# Split the data into training and testing sets\n",
    "X_train, X_test, y_train, y_test = train_test_split(X, y, test_size=0.2, random_state=42)\n"
   ]
  },
  {
   "cell_type": "code",
   "execution_count": 15,
   "id": "5f31f223-e44a-4651-a862-0f6d4750a93d",
   "metadata": {},
   "outputs": [
    {
     "name": "stdout",
     "output_type": "stream",
     "text": [
      "Logistic Regression\n",
      "Accuracy: 1.0\n",
      "Precision: 1.0\n",
      "Recall: 1.0\n",
      "F1-score: 1.0\n",
      "\n"
     ]
    }
   ],
   "source": [
    "# Logistic Regression\n",
    "lr = LogisticRegression(max_iter=200)\n",
    "lr.fit(X_train, y_train)\n",
    "y_pred_lr = lr.predict(X_test)\n",
    "\n",
    "accuracy_lr = accuracy_score(y_test, y_pred_lr)\n",
    "precision_lr = precision_score(y_test, y_pred_lr, average='weighted')\n",
    "recall_lr = recall_score(y_test, y_pred_lr, average='weighted')\n",
    "f1_lr = f1_score(y_test, y_pred_lr, average='weighted')\n",
    "\n",
    "print(\"Logistic Regression\")\n",
    "print(f'Accuracy: {accuracy_lr}')\n",
    "print(f'Precision: {precision_lr}')\n",
    "print(f'Recall: {recall_lr}')\n",
    "print(f'F1-score: {f1_lr}\\n')"
   ]
  },
  {
   "cell_type": "code",
   "execution_count": 17,
   "id": "f4f05876-1c16-4d90-9ee8-e360addbe399",
   "metadata": {},
   "outputs": [
    {
     "name": "stdout",
     "output_type": "stream",
     "text": [
      "k-Nearest Neighbors\n",
      "Accuracy: 1.0\n",
      "Precision: 1.0\n",
      "Recall: 1.0\n",
      "F1-score: 1.0\n",
      "\n"
     ]
    }
   ],
   "source": [
    "# k-Nearest Neighbors\n",
    "knn = KNeighborsClassifier()\n",
    "knn.fit(X_train, y_train)\n",
    "y_pred_knn = knn.predict(X_test)\n",
    "\n",
    "accuracy_knn = accuracy_score(y_test, y_pred_knn)\n",
    "precision_knn = precision_score(y_test, y_pred_knn, average='weighted')\n",
    "recall_knn = recall_score(y_test, y_pred_knn, average='weighted')\n",
    "f1_knn = f1_score(y_test, y_pred_knn, average='weighted')\n",
    "\n",
    "print(\"k-Nearest Neighbors\")\n",
    "print(f'Accuracy: {accuracy_knn}')\n",
    "print(f'Precision: {precision_knn}')\n",
    "print(f'Recall: {recall_knn}')\n",
    "print(f'F1-score: {f1_knn}\\n')"
   ]
  },
  {
   "cell_type": "code",
   "execution_count": 19,
   "id": "6605b948-6044-4c94-85de-9c45bfae532d",
   "metadata": {},
   "outputs": [
    {
     "name": "stdout",
     "output_type": "stream",
     "text": [
      "Gaussian Naive Bayes\n",
      "Accuracy: 1.0\n",
      "Precision: 1.0\n",
      "Recall: 1.0\n",
      "F1-score: 1.0\n",
      "\n"
     ]
    }
   ],
   "source": [
    "# Gaussian Naive Bayes\n",
    "gnb = GaussianNB()\n",
    "gnb.fit(X_train, y_train)\n",
    "y_pred_gnb = gnb.predict(X_test)\n",
    "\n",
    "accuracy_gnb = accuracy_score(y_test, y_pred_gnb)\n",
    "precision_gnb = precision_score(y_test, y_pred_gnb, average='weighted')\n",
    "recall_gnb = recall_score(y_test, y_pred_gnb, average='weighted')\n",
    "f1_gnb = f1_score(y_test, y_pred_gnb, average='weighted')\n",
    "\n",
    "print(\"Gaussian Naive Bayes\")\n",
    "print(f'Accuracy: {accuracy_gnb}')\n",
    "print(f'Precision: {precision_gnb}')\n",
    "print(f'Recall: {recall_gnb}')\n",
    "print(f'F1-score: {f1_gnb}\\n')"
   ]
  },
  {
   "cell_type": "code",
   "execution_count": 21,
   "id": "8d7f1218-f61e-4256-b302-e33af56dd829",
   "metadata": {},
   "outputs": [
    {
     "name": "stdout",
     "output_type": "stream",
     "text": [
      "Bernoulli Naive Bayes\n",
      "Accuracy: 0.3\n",
      "Precision: 0.09\n",
      "Recall: 0.3\n",
      "F1-score: 0.13846153846153847\n",
      "\n"
     ]
    },
    {
     "name": "stderr",
     "output_type": "stream",
     "text": [
      "C:\\Users\\Omen\\anaconda3\\Lib\\site-packages\\sklearn\\metrics\\_classification.py:1531: UndefinedMetricWarning: Precision is ill-defined and being set to 0.0 in labels with no predicted samples. Use `zero_division` parameter to control this behavior.\n",
      "  _warn_prf(average, modifier, f\"{metric.capitalize()} is\", len(result))\n"
     ]
    }
   ],
   "source": [
    "# Bernoulli Naive Bayes\n",
    "bnb = BernoulliNB()\n",
    "bnb.fit(X_train, y_train)\n",
    "y_pred_bnb = bnb.predict(X_test)\n",
    "\n",
    "accuracy_bnb = accuracy_score(y_test, y_pred_bnb)\n",
    "precision_bnb = precision_score(y_test, y_pred_bnb, average='weighted')\n",
    "recall_bnb = recall_score(y_test, y_pred_bnb, average='weighted')\n",
    "f1_bnb = f1_score(y_test, y_pred_bnb, average='weighted')\n",
    "\n",
    "print(\"Bernoulli Naive Bayes\")\n",
    "print(f'Accuracy: {accuracy_bnb}')\n",
    "print(f'Precision: {precision_bnb}')\n",
    "print(f'Recall: {recall_bnb}')\n",
    "print(f'F1-score: {f1_bnb}\\n')"
   ]
  },
  {
   "cell_type": "code",
   "execution_count": 23,
   "id": "559a0dd7-aade-46c6-b819-3b8b3e1091e3",
   "metadata": {},
   "outputs": [
    {
     "name": "stdout",
     "output_type": "stream",
     "text": [
      "Multinomial Naive Bayes\n",
      "Accuracy: 0.9\n",
      "Precision: 0.925\n",
      "Recall: 0.9\n",
      "F1-score: 0.899248120300752\n",
      "\n"
     ]
    }
   ],
   "source": [
    "# Multinomial Naive Bayes\n",
    "mnb = MultinomialNB()\n",
    "mnb.fit(X_train, y_train)\n",
    "y_pred_mnb = mnb.predict(X_test)\n",
    "\n",
    "accuracy_mnb = accuracy_score(y_test, y_pred_mnb)\n",
    "precision_mnb = precision_score(y_test, y_pred_mnb, average='weighted')\n",
    "recall_mnb = recall_score(y_test, y_pred_mnb, average='weighted')\n",
    "f1_mnb = f1_score(y_test, y_pred_mnb, average='weighted')\n",
    "\n",
    "print(\"Multinomial Naive Bayes\")\n",
    "print(f'Accuracy: {accuracy_mnb}')\n",
    "print(f'Precision: {precision_mnb}')\n",
    "print(f'Recall: {recall_mnb}')\n",
    "print(f'F1-score: {f1_mnb}\\n')"
   ]
  },
  {
   "cell_type": "code",
   "execution_count": 25,
   "id": "ebecf0c9-9c62-462e-b53e-7315285966c9",
   "metadata": {},
   "outputs": [
    {
     "name": "stdout",
     "output_type": "stream",
     "text": [
      "Decision Tree\n",
      "Accuracy: 1.0\n",
      "Precision: 1.0\n",
      "Recall: 1.0\n",
      "F1-score: 1.0\n",
      "\n"
     ]
    }
   ],
   "source": [
    "# Decision Tree\n",
    "dt = DecisionTreeClassifier()\n",
    "dt.fit(X_train, y_train)\n",
    "y_pred_dt = dt.predict(X_test)\n",
    "\n",
    "accuracy_dt = accuracy_score(y_test, y_pred_dt)\n",
    "precision_dt = precision_score(y_test, y_pred_dt, average='weighted')\n",
    "recall_dt = recall_score(y_test, y_pred_dt, average='weighted')\n",
    "f1_dt = f1_score(y_test, y_pred_dt, average='weighted')\n",
    "\n",
    "print(\"Decision Tree\")\n",
    "print(f'Accuracy: {accuracy_dt}')\n",
    "print(f'Precision: {precision_dt}')\n",
    "print(f'Recall: {recall_dt}')\n",
    "print(f'F1-score: {f1_dt}\\n')"
   ]
  },
  {
   "cell_type": "code",
   "execution_count": 27,
   "id": "943634d4-731d-4da0-ac77-db1c66fc4350",
   "metadata": {},
   "outputs": [
    {
     "name": "stdout",
     "output_type": "stream",
     "text": [
      "Random Forest\n",
      "Accuracy: 1.0\n",
      "Precision: 1.0\n",
      "Recall: 1.0\n",
      "F1-score: 1.0\n",
      "\n"
     ]
    }
   ],
   "source": [
    "# Random Forest\n",
    "rf = RandomForestClassifier(n_estimators=100)\n",
    "rf.fit(X_train, y_train)\n",
    "y_pred_rf = rf.predict(X_test)\n",
    "\n",
    "accuracy_rf = accuracy_score(y_test, y_pred_rf)\n",
    "precision_rf = precision_score(y_test, y_pred_rf, average='weighted')\n",
    "recall_rf = recall_score(y_test, y_pred_rf, average='weighted')\n",
    "f1_rf = f1_score(y_test, y_pred_rf, average='weighted')\n",
    "\n",
    "print(\"Random Forest\")\n",
    "print(f'Accuracy: {accuracy_rf}')\n",
    "print(f'Precision: {precision_rf}')\n",
    "print(f'Recall: {recall_rf}')\n",
    "print(f'F1-score: {f1_rf}\\n')"
   ]
  },
  {
   "cell_type": "code",
   "execution_count": 29,
   "id": "e232fe22-1c86-4cc3-a4d5-8c61ac2eb7cf",
   "metadata": {},
   "outputs": [
    {
     "name": "stdout",
     "output_type": "stream",
     "text": [
      "XGBoost\n",
      "Accuracy: 1.0\n",
      "Precision: 1.0\n",
      "Recall: 1.0\n",
      "F1-score: 1.0\n",
      "\n"
     ]
    },
    {
     "name": "stderr",
     "output_type": "stream",
     "text": [
      "C:\\Users\\Omen\\anaconda3\\Lib\\site-packages\\xgboost\\core.py:158: UserWarning: [19:29:41] WARNING: C:\\buildkite-agent\\builds\\buildkite-windows-cpu-autoscaling-group-i-0015a694724fa8361-1\\xgboost\\xgboost-ci-windows\\src\\learner.cc:740: \n",
      "Parameters: { \"use_label_encoder\" } are not used.\n",
      "\n",
      "  warnings.warn(smsg, UserWarning)\n"
     ]
    }
   ],
   "source": [
    "# XGBoost\n",
    "xgb = XGBClassifier(use_label_encoder=False, eval_metric='mlogloss')\n",
    "xgb.fit(X_train, y_train)\n",
    "y_pred_xgb = xgb.predict(X_test)\n",
    "\n",
    "accuracy_xgb = accuracy_score(y_test, y_pred_xgb)\n",
    "precision_xgb = precision_score(y_test, y_pred_xgb, average='weighted')\n",
    "recall_xgb = recall_score(y_test, y_pred_xgb, average='weighted')\n",
    "f1_xgb = f1_score(y_test, y_pred_xgb, average='weighted')\n",
    "\n",
    "print(\"XGBoost\")\n",
    "print(f'Accuracy: {accuracy_xgb}')\n",
    "print(f'Precision: {precision_xgb}')\n",
    "print(f'Recall: {recall_xgb}')\n",
    "print(f'F1-score: {f1_xgb}\\n')"
   ]
  },
  {
   "cell_type": "code",
   "execution_count": 30,
   "id": "d834e0e9-084f-4600-b919-b3f7bc567a71",
   "metadata": {},
   "outputs": [
    {
     "name": "stdout",
     "output_type": "stream",
     "text": [
      "Support Vector Machine\n",
      "Accuracy: 1.0\n",
      "Precision: 1.0\n",
      "Recall: 1.0\n",
      "F1-score: 1.0\n",
      "\n"
     ]
    }
   ],
   "source": [
    "# Support Vector Machine\n",
    "svm = SVC()\n",
    "svm.fit(X_train, y_train)\n",
    "y_pred_svm = svm.predict(X_test)\n",
    "\n",
    "accuracy_svm = accuracy_score(y_test, y_pred_svm)\n",
    "precision_svm = precision_score(y_test, y_pred_svm, average='weighted')\n",
    "recall_svm = recall_score(y_test, y_pred_svm, average='weighted')\n",
    "f1_svm = f1_score(y_test, y_pred_svm, average='weighted')\n",
    "\n",
    "print(\"Support Vector Machine\")\n",
    "print(f'Accuracy: {accuracy_svm}')\n",
    "print(f'Precision: {precision_svm}')\n",
    "print(f'Recall: {recall_svm}')\n",
    "print(f'F1-score: {f1_svm}\\n')"
   ]
  },
  {
   "cell_type": "code",
   "execution_count": 33,
   "id": "d9d2227c-2d6d-49c2-96bc-a61dadb3d1ab",
   "metadata": {},
   "outputs": [
    {
     "name": "stdout",
     "output_type": "stream",
     "text": [
      "                Classifier  Accuracy  Precision  Recall  F1-score\n",
      "0      Logistic Regression       1.0      1.000     1.0  1.000000\n",
      "1      k-Nearest Neighbors       1.0      1.000     1.0  1.000000\n",
      "2     Gaussian Naive Bayes       1.0      1.000     1.0  1.000000\n",
      "3    Bernoulli Naive Bayes       0.3      0.090     0.3  0.138462\n",
      "4  Multinomial Naive Bayes       0.9      0.925     0.9  0.899248\n",
      "5            Decision Tree       1.0      1.000     1.0  1.000000\n",
      "6            Random Forest       1.0      1.000     1.0  1.000000\n",
      "7                  XGBoost       1.0      1.000     1.0  1.000000\n",
      "8   Support Vector Machine       1.0      1.000     1.0  1.000000\n"
     ]
    },
    {
     "name": "stderr",
     "output_type": "stream",
     "text": [
      "C:\\Users\\Omen\\anaconda3\\Lib\\site-packages\\sklearn\\metrics\\_classification.py:1531: UndefinedMetricWarning: Precision is ill-defined and being set to 0.0 in labels with no predicted samples. Use `zero_division` parameter to control this behavior.\n",
      "  _warn_prf(average, modifier, f\"{metric.capitalize()} is\", len(result))\n",
      "C:\\Users\\Omen\\anaconda3\\Lib\\site-packages\\xgboost\\core.py:158: UserWarning: [19:29:42] WARNING: C:\\buildkite-agent\\builds\\buildkite-windows-cpu-autoscaling-group-i-0015a694724fa8361-1\\xgboost\\xgboost-ci-windows\\src\\learner.cc:740: \n",
      "Parameters: { \"use_label_encoder\" } are not used.\n",
      "\n",
      "  warnings.warn(smsg, UserWarning)\n"
     ]
    }
   ],
   "source": [
    "# Define classifiers\n",
    "classifiers = {\n",
    "    'Logistic Regression': LogisticRegression(max_iter=200),\n",
    "    'k-Nearest Neighbors': KNeighborsClassifier(),\n",
    "    'Gaussian Naive Bayes': GaussianNB(),\n",
    "    'Bernoulli Naive Bayes': BernoulliNB(),\n",
    "    'Multinomial Naive Bayes': MultinomialNB(),\n",
    "    'Decision Tree': DecisionTreeClassifier(),\n",
    "    'Random Forest': RandomForestClassifier(n_estimators=100),\n",
    "    'XGBoost': XGBClassifier(use_label_encoder=False, eval_metric='mlogloss'),\n",
    "    'Support Vector Machine': SVC()\n",
    "}\n",
    "\n",
    "# Initialize list to store results\n",
    "results = []\n",
    "\n",
    "# Evaluate each classifier\n",
    "for name, clf in classifiers.items():\n",
    "    clf.fit(X_train, y_train)\n",
    "    y_pred = clf.predict(X_test)\n",
    "    \n",
    "    accuracy = accuracy_score(y_test, y_pred)\n",
    "    precision = precision_score(y_test, y_pred, average='weighted')\n",
    "    recall = recall_score(y_test, y_pred, average='weighted')\n",
    "    f1 = f1_score(y_test, y_pred, average='weighted')\n",
    "    \n",
    "    results.append({\n",
    "        'Classifier': name,\n",
    "        'Accuracy': accuracy,\n",
    "        'Precision': precision,\n",
    "        'Recall': recall,\n",
    "        'F1-score': f1\n",
    "    })\n",
    "\n",
    "# Create a DataFrame with the results\n",
    "results_df = pd.DataFrame(results)\n",
    "\n",
    "# Display the results\n",
    "print(results_df)"
   ]
  },
  {
   "cell_type": "code",
   "execution_count": null,
   "id": "1c3a19db-1207-49e0-8faa-c7f7ad307c63",
   "metadata": {},
   "outputs": [],
   "source": []
  },
  {
   "cell_type": "code",
   "execution_count": null,
   "id": "1199365f-ffbb-4d46-9af4-266d28fae876",
   "metadata": {},
   "outputs": [],
   "source": []
  },
  {
   "cell_type": "code",
   "execution_count": null,
   "id": "984a7a2e-29c6-468e-9ac1-16db8b2adbae",
   "metadata": {},
   "outputs": [],
   "source": []
  }
 ],
 "metadata": {
  "kernelspec": {
   "display_name": "Python 3 (ipykernel)",
   "language": "python",
   "name": "python3"
  },
  "language_info": {
   "codemirror_mode": {
    "name": "ipython",
    "version": 3
   },
   "file_extension": ".py",
   "mimetype": "text/x-python",
   "name": "python",
   "nbconvert_exporter": "python",
   "pygments_lexer": "ipython3",
   "version": "3.11.9"
  }
 },
 "nbformat": 4,
 "nbformat_minor": 5
}
