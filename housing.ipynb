{
 "cells": [
  {
   "cell_type": "code",
   "execution_count": 18,
   "id": "adcbbde1-80d5-4241-9fea-c44848aa889e",
   "metadata": {},
   "outputs": [
    {
     "name": "stdout",
     "output_type": "stream",
     "text": [
      "1.1.1\n"
     ]
    }
   ],
   "source": [
    "import numpy as np\n",
    "import pandas as pd\n",
    "from sklearn.datasets import fetch_california_housing\n",
    "from sklearn.model_selection import train_test_split\n",
    "from sklearn.linear_model import LinearRegression, SGDRegressor, Ridge, Lasso, ElasticNet\n",
    "from sklearn.preprocessing import PolynomialFeatures\n",
    "from sklearn.pipeline import make_pipeline\n",
    "from sklearn.neighbors import KNeighborsRegressor\n",
    "from sklearn.tree import DecisionTreeRegressor\n",
    "from sklearn.ensemble import RandomForestRegressor\n",
    "from sklearn.svm import SVR\n",
    "from sklearn.metrics import mean_squared_error, mean_absolute_error, r2_score\n",
    "\n",
    "# Install XGBoost if not already installed\n",
    "from xgboost import XGBRegressor\n",
    "import sklearn\n",
    "print(sklearn.__version__)\n"
   ]
  },
  {
   "cell_type": "code",
   "execution_count": 15,
   "id": "18e479cc-a987-47da-bd1e-10d41097e29c",
   "metadata": {},
   "outputs": [
    {
     "name": "stdout",
     "output_type": "stream",
     "text": [
      "Requirement already satisfied: scikit-learn in c:\\users\\omen\\anaconda3\\envs\\depi\\lib\\site-packages (1.1.1)\n",
      "Collecting scikit-learn\n",
      "  Downloading scikit_learn-1.5.1-cp39-cp39-win_amd64.whl.metadata (12 kB)\n",
      "Requirement already satisfied: numpy>=1.19.5 in c:\\users\\omen\\anaconda3\\envs\\depi\\lib\\site-packages (from scikit-learn) (1.23.0)\n",
      "Requirement already satisfied: scipy>=1.6.0 in c:\\users\\omen\\anaconda3\\envs\\depi\\lib\\site-packages (from scikit-learn) (1.13.1)\n",
      "Collecting joblib>=1.2.0 (from scikit-learn)\n",
      "  Downloading joblib-1.4.2-py3-none-any.whl.metadata (5.4 kB)\n",
      "Requirement already satisfied: threadpoolctl>=3.1.0 in c:\\users\\omen\\anaconda3\\envs\\depi\\lib\\site-packages (from scikit-learn) (3.5.0)\n",
      "Downloading scikit_learn-1.5.1-cp39-cp39-win_amd64.whl (11.0 MB)\n",
      "   ---------------------------------------- 0.0/11.0 MB ? eta -:--:--\n",
      "   ---------------------------------------- 0.0/11.0 MB 1.3 MB/s eta 0:00:09\n",
      "   ---------------------------------------- 0.1/11.0 MB 919.0 kB/s eta 0:00:12\n",
      "    --------------------------------------- 0.2/11.0 MB 1.2 MB/s eta 0:00:09\n",
      "   - -------------------------------------- 0.3/11.0 MB 2.0 MB/s eta 0:00:06\n",
      "   - -------------------------------------- 0.5/11.0 MB 2.4 MB/s eta 0:00:05\n",
      "   -- ------------------------------------- 0.7/11.0 MB 2.7 MB/s eta 0:00:04\n",
      "   --- ------------------------------------ 1.0/11.0 MB 3.0 MB/s eta 0:00:04\n",
      "   ---- ----------------------------------- 1.1/11.0 MB 3.1 MB/s eta 0:00:04\n",
      "   ---- ----------------------------------- 1.3/11.0 MB 3.3 MB/s eta 0:00:03\n",
      "   ----- ---------------------------------- 1.5/11.0 MB 3.3 MB/s eta 0:00:03\n",
      "   ------ --------------------------------- 1.7/11.0 MB 3.4 MB/s eta 0:00:03\n",
      "   ------- -------------------------------- 1.9/11.0 MB 3.5 MB/s eta 0:00:03\n",
      "   ------- -------------------------------- 2.1/11.0 MB 3.5 MB/s eta 0:00:03\n",
      "   -------- ------------------------------- 2.3/11.0 MB 3.6 MB/s eta 0:00:03\n",
      "   --------- ------------------------------ 2.5/11.0 MB 3.6 MB/s eta 0:00:03\n",
      "   --------- ------------------------------ 2.6/11.0 MB 3.6 MB/s eta 0:00:03\n",
      "   --------- ------------------------------ 2.7/11.0 MB 3.4 MB/s eta 0:00:03\n",
      "   --------- ------------------------------ 2.7/11.0 MB 3.4 MB/s eta 0:00:03\n",
      "   ----------- ---------------------------- 3.2/11.0 MB 3.6 MB/s eta 0:00:03\n",
      "   ----------- ---------------------------- 3.2/11.0 MB 3.5 MB/s eta 0:00:03\n",
      "   ------------ --------------------------- 3.4/11.0 MB 3.5 MB/s eta 0:00:03\n",
      "   ------------- -------------------------- 3.6/11.0 MB 3.5 MB/s eta 0:00:03\n",
      "   ------------- -------------------------- 3.8/11.0 MB 3.6 MB/s eta 0:00:03\n",
      "   -------------- ------------------------- 4.0/11.0 MB 3.6 MB/s eta 0:00:02\n",
      "   --------------- ------------------------ 4.2/11.0 MB 3.6 MB/s eta 0:00:02\n",
      "   ---------------- ----------------------- 4.4/11.0 MB 3.6 MB/s eta 0:00:02\n",
      "   ---------------- ----------------------- 4.6/11.0 MB 3.6 MB/s eta 0:00:02\n",
      "   ----------------- ---------------------- 4.8/11.0 MB 3.6 MB/s eta 0:00:02\n",
      "   ------------------ --------------------- 5.0/11.0 MB 3.7 MB/s eta 0:00:02\n",
      "   ------------------ --------------------- 5.2/11.0 MB 3.7 MB/s eta 0:00:02\n",
      "   ------------------- -------------------- 5.4/11.0 MB 3.7 MB/s eta 0:00:02\n",
      "   -------------------- ------------------- 5.6/11.0 MB 3.7 MB/s eta 0:00:02\n",
      "   --------------------- ------------------ 5.8/11.0 MB 3.7 MB/s eta 0:00:02\n",
      "   --------------------- ------------------ 6.0/11.0 MB 3.7 MB/s eta 0:00:02\n",
      "   ---------------------- ----------------- 6.2/11.0 MB 3.7 MB/s eta 0:00:02\n",
      "   ----------------------- ---------------- 6.3/11.0 MB 3.7 MB/s eta 0:00:02\n",
      "   ----------------------- ---------------- 6.5/11.0 MB 3.8 MB/s eta 0:00:02\n",
      "   ------------------------ --------------- 6.7/11.0 MB 3.8 MB/s eta 0:00:02\n",
      "   ------------------------- -------------- 6.9/11.0 MB 3.8 MB/s eta 0:00:02\n",
      "   ------------------------- -------------- 7.1/11.0 MB 3.8 MB/s eta 0:00:02\n",
      "   -------------------------- ------------- 7.3/11.0 MB 3.8 MB/s eta 0:00:01\n",
      "   --------------------------- ------------ 7.5/11.0 MB 3.8 MB/s eta 0:00:01\n",
      "   --------------------------- ------------ 7.7/11.0 MB 3.8 MB/s eta 0:00:01\n",
      "   ---------------------------- ----------- 7.9/11.0 MB 3.8 MB/s eta 0:00:01\n",
      "   ----------------------------- ---------- 8.1/11.0 MB 3.8 MB/s eta 0:00:01\n",
      "   ------------------------------ --------- 8.3/11.0 MB 3.9 MB/s eta 0:00:01\n",
      "   ------------------------------- -------- 8.6/11.0 MB 3.9 MB/s eta 0:00:01\n",
      "   -------------------------------- ------- 8.8/11.0 MB 3.9 MB/s eta 0:00:01\n",
      "   -------------------------------- ------- 9.0/11.0 MB 3.9 MB/s eta 0:00:01\n",
      "   --------------------------------- ------ 9.3/11.0 MB 3.9 MB/s eta 0:00:01\n",
      "   ---------------------------------- ----- 9.5/11.0 MB 4.0 MB/s eta 0:00:01\n",
      "   ----------------------------------- ---- 9.7/11.0 MB 4.0 MB/s eta 0:00:01\n",
      "   ------------------------------------ --- 9.9/11.0 MB 4.0 MB/s eta 0:00:01\n",
      "   ------------------------------------ --- 10.1/11.0 MB 4.0 MB/s eta 0:00:01\n",
      "   ------------------------------------- -- 10.3/11.0 MB 4.1 MB/s eta 0:00:01\n",
      "   -------------------------------------- - 10.5/11.0 MB 4.2 MB/s eta 0:00:01\n",
      "   ---------------------------------------  10.8/11.0 MB 4.2 MB/s eta 0:00:01\n",
      "   ---------------------------------------  11.0/11.0 MB 4.2 MB/s eta 0:00:01\n",
      "   ---------------------------------------- 11.0/11.0 MB 4.2 MB/s eta 0:00:00\n",
      "Downloading joblib-1.4.2-py3-none-any.whl (301 kB)\n",
      "   ---------------------------------------- 0.0/301.8 kB ? eta -:--:--\n",
      "   ------------------ --------------------- 143.4/301.8 kB 4.3 MB/s eta 0:00:01\n",
      "   ---------------------------------------- 301.8/301.8 kB 3.7 MB/s eta 0:00:00\n",
      "Installing collected packages: joblib, scikit-learn\n",
      "  Attempting uninstall: joblib\n",
      "    Found existing installation: joblib 1.1.0\n",
      "    Uninstalling joblib-1.1.0:\n",
      "      Successfully uninstalled joblib-1.1.0\n",
      "  Attempting uninstall: scikit-learn\n",
      "    Found existing installation: scikit-learn 1.1.1\n",
      "    Uninstalling scikit-learn-1.1.1:\n",
      "      Successfully uninstalled scikit-learn-1.1.1\n",
      "Successfully installed joblib-1.4.2 scikit-learn-1.5.1\n",
      "Note: you may need to restart the kernel to use updated packages.\n"
     ]
    },
    {
     "name": "stderr",
     "output_type": "stream",
     "text": [
      "  WARNING: Failed to remove contents in a temporary directory 'C:\\Users\\Omen\\anaconda3\\envs\\Depi\\Lib\\site-packages\\~klearn'.\n",
      "  You can safely remove it manually.\n"
     ]
    }
   ],
   "source": [
    "pip install --upgrade scikit-learn\n"
   ]
  },
  {
   "cell_type": "code",
   "execution_count": 2,
   "id": "7a176320-fea3-4571-9bbb-e6349765ab93",
   "metadata": {},
   "outputs": [],
   "source": [
    "# Load the California housing dataset\n",
    "data = fetch_california_housing()\n",
    "X = data.data\n",
    "y = data.target"
   ]
  },
  {
   "cell_type": "code",
   "execution_count": 8,
   "id": "6c4b2223-95c9-4545-b03e-0838aa65a8ab",
   "metadata": {},
   "outputs": [],
   "source": [
    "# Split the dataset into training and testing sets\n",
    "X_train, X_test, y_train, y_test = train_test_split(X, y, test_size=0.3, random_state=42)\n"
   ]
  },
  {
   "cell_type": "code",
   "execution_count": 9,
   "id": "c851815b-2d26-4a57-a743-656b555dc46f",
   "metadata": {},
   "outputs": [
    {
     "name": "stdout",
     "output_type": "stream",
     "text": [
      "Linear Regression (OLS)\n",
      "MSE: 0.5305677824766755\n",
      "RMSE: 0.7284008391515454\n",
      "MAE: 0.527247453830616\n",
      "MAPE (%): 31.750265760071688\n",
      "R squared: 0.5957702326061662\n",
      "\n"
     ]
    }
   ],
   "source": [
    "# Linear Regression (OLS)\n",
    "lr = LinearRegression()\n",
    "lr.fit(X_train, y_train)\n",
    "y_pred_lr = lr.predict(X_test)\n",
    "\n",
    "# Calculate metrics\n",
    "mse_lr = mean_squared_error(y_test, y_pred_lr)\n",
    "rmse_lr = np.sqrt(mse_lr)\n",
    "mae_lr = mean_absolute_error(y_test, y_pred_lr)\n",
    "mape_lr = np.mean(np.abs((y_test - y_pred_lr) / y_test)) * 100\n",
    "r2_lr = r2_score(y_test, y_pred_lr)\n",
    "\n",
    "# Print results\n",
    "print(\"Linear Regression (OLS)\")\n",
    "print(f'MSE: {mse_lr}')\n",
    "print(f'RMSE: {rmse_lr}')\n",
    "print(f'MAE: {mae_lr}')\n",
    "print(f'MAPE (%): {mape_lr}')\n",
    "print(f'R squared: {r2_lr}\\n')"
   ]
  },
  {
   "cell_type": "code",
   "execution_count": 10,
   "id": "30f46e35-9103-4a72-8b87-b40dd26c4508",
   "metadata": {},
   "outputs": [
    {
     "name": "stdout",
     "output_type": "stream",
     "text": [
      "SGD Regression\n",
      "MSE: 1.9934332314069628e+30\n",
      "RMSE: 1411889950175637.0\n",
      "MAE: 1112322575457411.6\n",
      "MAPE (%): 7.23283167852104e+16\n",
      "R squared: -1.5187598607765056e+30\n",
      "\n"
     ]
    }
   ],
   "source": [
    "\n",
    "# SGD Regression\n",
    "sgd = SGDRegressor(max_iter=1000, tol=1e-3)\n",
    "sgd.fit(X_train, y_train)\n",
    "y_pred_sgd = sgd.predict(X_test)\n",
    "\n",
    "# Calculate metrics\n",
    "mse_sgd = mean_squared_error(y_test, y_pred_sgd)\n",
    "rmse_sgd = np.sqrt(mse_sgd)\n",
    "mae_sgd = mean_absolute_error(y_test, y_pred_sgd)\n",
    "mape_sgd = np.mean(np.abs((y_test - y_pred_sgd) / y_test)) * 100\n",
    "r2_sgd = r2_score(y_test, y_pred_sgd)\n",
    "\n",
    "# Print results\n",
    "print(\"SGD Regression\")\n",
    "print(f'MSE: {mse_sgd}')\n",
    "print(f'RMSE: {rmse_sgd}')\n",
    "print(f'MAE: {mae_sgd}')\n",
    "print(f'MAPE (%): {mape_sgd}')\n",
    "print(f'R squared: {r2_sgd}\\n')\n"
   ]
  },
  {
   "cell_type": "code",
   "execution_count": 20,
   "id": "65e275f2-bf27-4340-8d9a-47f1ae8117e3",
   "metadata": {},
   "outputs": [
    {
     "name": "stdout",
     "output_type": "stream",
     "text": [
      "Lasso Regression\n",
      "MSE: 0.9345280531749283\n",
      "RMSE: 0.9667099115944391\n",
      "MAE: 0.7609780549289142\n",
      "MAPE (%): 52.01400652865025\n",
      "R squared: 0.288000383674784\n",
      "\n"
     ]
    }
   ],
   "source": [
    "\n",
    "# Lasso Regression\n",
    "lasso = Lasso()\n",
    "lasso.fit(X_train, y_train)\n",
    "y_pred_lasso = lasso.predict(X_test)\n",
    "\n",
    "# Calculate metrics\n",
    "mse_lasso = mean_squared_error(y_test, y_pred_lasso)\n",
    "rmse_lasso = np.sqrt(mse_lasso)\n",
    "mae_lasso = mean_absolute_error(y_test, y_pred_lasso)\n",
    "mape_lasso = np.mean(np.abs((y_test - y_pred_lasso) / y_test)) * 100\n",
    "r2_lasso = r2_score(y_test, y_pred_lasso)\n",
    "\n",
    "# Print results\n",
    "print(\"Lasso Regression\")\n",
    "print(f'MSE: {mse_lasso}')\n",
    "print(f'RMSE: {rmse_lasso}')\n",
    "print(f'MAE: {mae_lasso}')\n",
    "print(f'MAPE (%): {mape_lasso}')\n",
    "print(f'R squared: {r2_lasso}\\n')\n"
   ]
  },
  {
   "cell_type": "code",
   "execution_count": 21,
   "id": "7404ce9b-d9a4-4215-bf97-be94a0cdee9d",
   "metadata": {},
   "outputs": [
    {
     "name": "stdout",
     "output_type": "stream",
     "text": [
      "Elastic Net\n",
      "MSE: 0.7562926012142382\n",
      "RMSE: 0.8696508501773791\n",
      "MAE: 0.6738692599693638\n",
      "MAPE (%): 45.394602074695264\n",
      "R squared: 0.4237946736165634\n",
      "\n"
     ]
    }
   ],
   "source": [
    "from sklearn.linear_model import ElasticNet\n",
    "\n",
    "# Elastic Net\n",
    "elastic_net = ElasticNet()\n",
    "elastic_net.fit(X_train, y_train)\n",
    "y_pred_en = elastic_net.predict(X_test)\n",
    "\n",
    "# Calculate metrics\n",
    "mse_en = mean_squared_error(y_test, y_pred_en)\n",
    "rmse_en = np.sqrt(mse_en)\n",
    "mae_en = mean_absolute_error(y_test, y_pred_en)\n",
    "mape_en = np.mean(np.abs((y_test - y_pred_en) / y_test)) * 100\n",
    "r2_en = r2_score(y_test, y_pred_en)\n",
    "\n",
    "# Print results\n",
    "print(\"Elastic Net\")\n",
    "print(f'MSE: {mse_en}')\n",
    "print(f'RMSE: {rmse_en}')\n",
    "print(f'MAE: {mae_en}')\n",
    "print(f'MAPE (%): {mape_en}')\n",
    "print(f'R squared: {r2_en}\\n')\n"
   ]
  },
  {
   "cell_type": "code",
   "execution_count": 22,
   "id": "d45c778c-9f08-4617-a703-a3c3e35af5e2",
   "metadata": {},
   "outputs": [
    {
     "name": "stdout",
     "output_type": "stream",
     "text": [
      "Polynomial Regression (Degree 2)\n",
      "MSE: 0.4549723312023182\n",
      "RMSE: 0.67451636837242\n",
      "MAE: 0.46333006176513025\n",
      "MAPE (%): 26.7907883609311\n",
      "R squared: 0.6533650069100672\n",
      "\n"
     ]
    }
   ],
   "source": [
    "from sklearn.preprocessing import PolynomialFeatures\n",
    "from sklearn.pipeline import make_pipeline\n",
    "\n",
    "# Polynomial Regression (Degree 2)\n",
    "poly_reg = make_pipeline(PolynomialFeatures(degree=2), LinearRegression())\n",
    "poly_reg.fit(X_train, y_train)\n",
    "y_pred_poly = poly_reg.predict(X_test)\n",
    "\n",
    "# Calculate metrics\n",
    "mse_poly = mean_squared_error(y_test, y_pred_poly)\n",
    "rmse_poly = np.sqrt(mse_poly)\n",
    "mae_poly = mean_absolute_error(y_test, y_pred_poly)\n",
    "mape_poly = np.mean(np.abs((y_test - y_pred_poly) / y_test)) * 100\n",
    "r2_poly = r2_score(y_test, y_pred_poly)\n",
    "\n",
    "# Print results\n",
    "print(\"Polynomial Regression (Degree 2)\")\n",
    "print(f'MSE: {mse_poly}')\n",
    "print(f'RMSE: {rmse_poly}')\n",
    "print(f'MAE: {mae_poly}')\n",
    "print(f'MAPE (%): {mape_poly}')\n",
    "print(f'R squared: {r2_poly}\\n')\n"
   ]
  },
  {
   "cell_type": "code",
   "execution_count": 23,
   "id": "dfe22c9a-2338-4790-abc1-cf0aaa0b0726",
   "metadata": {},
   "outputs": [
    {
     "name": "stdout",
     "output_type": "stream",
     "text": [
      "k-Nearest Neighbors\n",
      "MSE: 1.136942049088978\n",
      "RMSE: 1.066274846880005\n",
      "MAE: 0.8217871040051679\n",
      "MAPE (%): 53.857102534079274\n",
      "R squared: 0.1337849088797427\n",
      "\n"
     ]
    }
   ],
   "source": [
    "from sklearn.neighbors import KNeighborsRegressor\n",
    "\n",
    "# k-Nearest Neighbors\n",
    "knn = KNeighborsRegressor()\n",
    "knn.fit(X_train, y_train)\n",
    "y_pred_knn = knn.predict(X_test)\n",
    "\n",
    "# Calculate metrics\n",
    "mse_knn = mean_squared_error(y_test, y_pred_knn)\n",
    "rmse_knn = np.sqrt(mse_knn)\n",
    "mae_knn = mean_absolute_error(y_test, y_pred_knn)\n",
    "mape_knn = np.mean(np.abs((y_test - y_pred_knn) / y_test)) * 100\n",
    "r2_knn = r2_score(y_test, y_pred_knn)\n",
    "\n",
    "# Print results\n",
    "print(\"k-Nearest Neighbors\")\n",
    "print(f'MSE: {mse_knn}')\n",
    "print(f'RMSE: {rmse_knn}')\n",
    "print(f'MAE: {mae_knn}')\n",
    "print(f'MAPE (%): {mape_knn}')\n",
    "print(f'R squared: {r2_knn}\\n')\n"
   ]
  },
  {
   "cell_type": "code",
   "execution_count": 24,
   "id": "7ffa736f-bcb8-4d49-88ef-40a12da81b27",
   "metadata": {},
   "outputs": [
    {
     "name": "stdout",
     "output_type": "stream",
     "text": [
      "Decision Tree\n",
      "MSE: 0.5283933525042798\n",
      "RMSE: 0.7269067013752726\n",
      "MAE: 0.47254742409560724\n",
      "MAPE (%): 26.142704308128305\n",
      "R squared: 0.5974268905318562\n",
      "\n"
     ]
    }
   ],
   "source": [
    "from sklearn.tree import DecisionTreeRegressor\n",
    "\n",
    "# Decision Tree\n",
    "dt = DecisionTreeRegressor()\n",
    "dt.fit(X_train, y_train)\n",
    "y_pred_dt = dt.predict(X_test)\n",
    "\n",
    "# Calculate metrics\n",
    "mse_dt = mean_squared_error(y_test, y_pred_dt)\n",
    "rmse_dt = np.sqrt(mse_dt)\n",
    "mae_dt = mean_absolute_error(y_test, y_pred_dt)\n",
    "mape_dt = np.mean(np.abs((y_test - y_pred_dt) / y_test)) * 100\n",
    "r2_dt = r2_score(y_test, y_pred_dt)\n",
    "\n",
    "# Print results\n",
    "print(\"Decision Tree\")\n",
    "print(f'MSE: {mse_dt}')\n",
    "print(f'RMSE: {rmse_dt}')\n",
    "print(f'MAE: {mae_dt}')\n",
    "print(f'MAPE (%): {mape_dt}')\n",
    "print(f'R squared: {r2_dt}\\n')\n"
   ]
  },
  {
   "cell_type": "code",
   "execution_count": 27,
   "id": "285492f4-f509-4410-96e9-a97c569b5900",
   "metadata": {},
   "outputs": [
    {
     "name": "stdout",
     "output_type": "stream",
     "text": [
      "Random Forest\n",
      "MSE: 0.2539805093260179\n",
      "RMSE: 0.5039647897681125\n",
      "MAE: 0.3305438337047805\n",
      "MAPE (%): 19.04475202070329\n",
      "R squared: 0.8064969536443027\n",
      "\n"
     ]
    }
   ],
   "source": [
    "\n",
    "# Random Forest\n",
    "rf = RandomForestRegressor(n_estimators=100)\n",
    "rf.fit(X_train, y_train)\n",
    "y_pred_rf = rf.predict(X_test)\n",
    "\n",
    "# Calculate metrics\n",
    "mse_rf = mean_squared_error(y_test, y_pred_rf)\n",
    "rmse_rf = np.sqrt(mse_rf)\n",
    "mae_rf = mean_absolute_error(y_test, y_pred_rf)\n",
    "mape_rf = np.mean(np.abs((y_test - y_pred_rf) / y_test)) * 100\n",
    "r2_rf = r2_score(y_test, y_pred_rf)\n",
    "\n",
    "# Print results\n",
    "print(\"Random Forest\")\n",
    "print(f'MSE: {mse_rf}')\n",
    "print(f'RMSE: {rmse_rf}')\n",
    "print(f'MAE: {mae_rf}')\n",
    "print(f'MAPE (%): {mape_rf}')\n",
    "print(f'R squared: {r2_rf}\\n')\n"
   ]
  },
  {
   "cell_type": "code",
   "execution_count": 3,
   "id": "e19d2661-f021-4036-a2a7-4580d1e29062",
   "metadata": {},
   "outputs": [
    {
     "ename": "NameError",
     "evalue": "name 'LinearRegression' is not defined",
     "output_type": "error",
     "traceback": [
      "\u001b[1;31m---------------------------------------------------------------------------\u001b[0m",
      "\u001b[1;31mNameError\u001b[0m                                 Traceback (most recent call last)",
      "Cell \u001b[1;32mIn[3], line 3\u001b[0m\n\u001b[0;32m      1\u001b[0m \u001b[38;5;66;03m# Define regression models\u001b[39;00m\n\u001b[0;32m      2\u001b[0m models \u001b[38;5;241m=\u001b[39m {\n\u001b[1;32m----> 3\u001b[0m     \u001b[38;5;124m'\u001b[39m\u001b[38;5;124mLinear Regression (OLS)\u001b[39m\u001b[38;5;124m'\u001b[39m: LinearRegression(),\n\u001b[0;32m      4\u001b[0m     \u001b[38;5;124m'\u001b[39m\u001b[38;5;124mSGD Regression\u001b[39m\u001b[38;5;124m'\u001b[39m: SGDRegressor(max_iter\u001b[38;5;241m=\u001b[39m\u001b[38;5;241m1000\u001b[39m, tol\u001b[38;5;241m=\u001b[39m\u001b[38;5;241m1e-3\u001b[39m),\n\u001b[0;32m      5\u001b[0m     \u001b[38;5;124m'\u001b[39m\u001b[38;5;124mLasso Regression\u001b[39m\u001b[38;5;124m'\u001b[39m: Lasso(),\n\u001b[0;32m      6\u001b[0m     \u001b[38;5;124m'\u001b[39m\u001b[38;5;124mElastic Net\u001b[39m\u001b[38;5;124m'\u001b[39m: ElasticNet(),\n\u001b[0;32m      7\u001b[0m     \u001b[38;5;124m'\u001b[39m\u001b[38;5;124mPolynomial Regression (Degree 2)\u001b[39m\u001b[38;5;124m'\u001b[39m: make_pipeline(PolynomialFeatures(degree\u001b[38;5;241m=\u001b[39m\u001b[38;5;241m2\u001b[39m), LinearRegression()),\n\u001b[0;32m      8\u001b[0m     \u001b[38;5;124m'\u001b[39m\u001b[38;5;124mk-Nearest Neighbors\u001b[39m\u001b[38;5;124m'\u001b[39m: KNeighborsRegressor(),\n\u001b[0;32m      9\u001b[0m     \u001b[38;5;124m'\u001b[39m\u001b[38;5;124mDecision Tree\u001b[39m\u001b[38;5;124m'\u001b[39m: DecisionTreeRegressor(),\n\u001b[0;32m     10\u001b[0m     \u001b[38;5;124m'\u001b[39m\u001b[38;5;124mRandom Forest\u001b[39m\u001b[38;5;124m'\u001b[39m: RandomForestRegressor(n_estimators\u001b[38;5;241m=\u001b[39m\u001b[38;5;241m100\u001b[39m),\n\u001b[0;32m     11\u001b[0m     \u001b[38;5;124m'\u001b[39m\u001b[38;5;124mSupport Vector Machine\u001b[39m\u001b[38;5;124m'\u001b[39m: SVR(),\n\u001b[0;32m     12\u001b[0m     \u001b[38;5;124m'\u001b[39m\u001b[38;5;124mXGBoost\u001b[39m\u001b[38;5;124m'\u001b[39m: XGBRegressor(use_label_encoder\u001b[38;5;241m=\u001b[39m\u001b[38;5;28;01mFalse\u001b[39;00m, eval_metric\u001b[38;5;241m=\u001b[39m\u001b[38;5;124m'\u001b[39m\u001b[38;5;124mrmse\u001b[39m\u001b[38;5;124m'\u001b[39m)\n\u001b[0;32m     13\u001b[0m }\n\u001b[0;32m     15\u001b[0m \u001b[38;5;66;03m# Initialize list to store results\u001b[39;00m\n\u001b[0;32m     16\u001b[0m results \u001b[38;5;241m=\u001b[39m []\n",
      "\u001b[1;31mNameError\u001b[0m: name 'LinearRegression' is not defined"
     ]
    }
   ],
   "source": [
    "# Define regression models\n",
    "models = {\n",
    "    'Linear Regression (OLS)': LinearRegression(),\n",
    "    'SGD Regression': SGDRegressor(max_iter=1000, tol=1e-3),\n",
    "    'Lasso Regression': Lasso(),\n",
    "    'Elastic Net': ElasticNet(),\n",
    "    'Polynomial Regression (Degree 2)': make_pipeline(PolynomialFeatures(degree=2), LinearRegression()),\n",
    "    'k-Nearest Neighbors': KNeighborsRegressor(),\n",
    "    'Decision Tree': DecisionTreeRegressor(),\n",
    "    'Random Forest': RandomForestRegressor(n_estimators=100),\n",
    "    'Support Vector Machine': SVR(),\n",
    "    'XGBoost': XGBRegressor(use_label_encoder=False, eval_metric='rmse')\n",
    "}\n",
    "\n",
    "# Initialize list to store results\n",
    "results = []\n",
    "\n",
    "# Evaluation function\n",
    "def evaluate_model(model, X_train, X_test, y_train, y_test):\n",
    "    model.fit(X_train, y_train)\n",
    "    y_pred = model.predict(X_test)\n",
    "    \n",
    "    mse = mean_squared_error(y_test, y_pred)\n",
    "    rmse = np.sqrt(mse)\n",
    "    mae = mean_absolute_error(y_test, y_pred)\n",
    "    mape = np.mean(np.abs((y_test - y_pred) / y_test)) * 100\n",
    "    r2 = r2_score(y_test, y_pred)\n",
    "    \n",
    "    return mse, rmse, mae, mape, r2\n",
    "\n",
    "# Evaluate each model\n",
    "for name, model in models.items():\n",
    "    mse, rmse, mae, mape, r2 = evaluate_model(model, X_train, X_test, y_train, y_test)\n",
    "    \n",
    "    results.append({\n",
    "        'Model': name,\n",
    "        'MSE': mse,\n",
    "        'RMSE': rmse,\n",
    "        'MAE': mae,\n",
    "        'MAPE (%)': mape,\n",
    "        'R squared': r2\n",
    "    })\n",
    "\n",
    "# Create a DataFrame with the results\n",
    "results_df = pd.DataFrame(results)\n",
    "\n",
    "# Display the results\n",
    "print(results_df)"
   ]
  },
  {
   "cell_type": "code",
   "execution_count": null,
   "id": "02d449bd-201e-4261-a094-910d121bf785",
   "metadata": {},
   "outputs": [],
   "source": []
  }
 ],
 "metadata": {
  "kernelspec": {
   "display_name": "Python 3 (ipykernel)",
   "language": "python",
   "name": "python3"
  },
  "language_info": {
   "codemirror_mode": {
    "name": "ipython",
    "version": 3
   },
   "file_extension": ".py",
   "mimetype": "text/x-python",
   "name": "python",
   "nbconvert_exporter": "python",
   "pygments_lexer": "ipython3",
   "version": "3.11.9"
  }
 },
 "nbformat": 4,
 "nbformat_minor": 5
}
