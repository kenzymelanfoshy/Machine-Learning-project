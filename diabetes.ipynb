{
 "cells": [
  {
   "cell_type": "code",
   "execution_count": 33,
   "id": "adcbbde1-80d5-4241-9fea-c44848aa889e",
   "metadata": {},
   "outputs": [],
   "source": [
    "import numpy as np\n",
    "import pandas as pd\n",
    "from sklearn.datasets import load_iris\n",
    "from sklearn.model_selection import train_test_split\n",
    "from sklearn.linear_model import LogisticRegression\n",
    "from sklearn.neighbors import KNeighborsClassifier\n",
    "from sklearn.naive_bayes import GaussianNB, BernoulliNB, MultinomialNB\n",
    "from sklearn.tree import DecisionTreeClassifier\n",
    "from sklearn.ensemble import RandomForestClassifier\n",
    "from xgboost import XGBClassifier\n",
    "from sklearn.svm import SVC\n",
    "from sklearn.metrics import accuracy_score, precision_score, recall_score, f1_score"
   ]
  },
  {
   "cell_type": "code",
   "execution_count": 4,
   "id": "18e479cc-a987-47da-bd1e-10d41097e29c",
   "metadata": {},
   "outputs": [
    {
     "name": "stdout",
     "output_type": "stream",
     "text": [
      "Requirement already satisfied: scikit-learn in c:\\users\\omen\\anaconda3\\lib\\site-packages (1.5.1)\n",
      "Requirement already satisfied: numpy>=1.19.5 in c:\\users\\omen\\anaconda3\\lib\\site-packages (from scikit-learn) (1.26.4)\n",
      "Requirement already satisfied: scipy>=1.6.0 in c:\\users\\omen\\anaconda3\\lib\\site-packages (from scikit-learn) (1.13.1)\n",
      "Requirement already satisfied: joblib>=1.2.0 in c:\\users\\omen\\anaconda3\\lib\\site-packages (from scikit-learn) (1.4.2)\n",
      "Requirement already satisfied: threadpoolctl>=3.1.0 in c:\\users\\omen\\anaconda3\\lib\\site-packages (from scikit-learn) (3.5.0)\n",
      "Note: you may need to restart the kernel to use updated packages.\n"
     ]
    }
   ],
   "source": [
    "pip install --upgrade scikit-learn\n"
   ]
  },
  {
   "cell_type": "code",
   "execution_count": 5,
   "id": "7a176320-fea3-4571-9bbb-e6349765ab93",
   "metadata": {},
   "outputs": [],
   "source": [
    "# Load the California housing dataset\n",
    "diabetes_data = load_diabetes()\n",
    "\n",
    "# Get the feature matrix and target vector\n",
    "X = diabetes_data.data\n",
    "y = diabetes_data.target"
   ]
  },
  {
   "cell_type": "code",
   "execution_count": 8,
   "id": "6c4b2223-95c9-4545-b03e-0838aa65a8ab",
   "metadata": {},
   "outputs": [],
   "source": [
    "# Split the dataset into training and testing sets\n",
    "X_train, X_test, y_train, y_test = train_test_split(X, y, test_size=0.3, random_state=42)\n"
   ]
  },
  {
   "cell_type": "code",
   "execution_count": 10,
   "id": "c851815b-2d26-4a57-a743-656b555dc46f",
   "metadata": {},
   "outputs": [
    {
     "name": "stdout",
     "output_type": "stream",
     "text": [
      "Linear Regression (OLS)\n",
      "MSE: 2821.7509810013103\n",
      "RMSE: 53.1201560709427\n",
      "MAE: 41.91937845679274\n",
      "MAPE (%): 36.67196318312674\n",
      "R squared: 0.4772897164322618\n",
      "\n"
     ]
    }
   ],
   "source": [
    "# Linear Regression (OLS)\n",
    "lr = LinearRegression()\n",
    "lr.fit(X_train, y_train)\n",
    "y_pred_lr = lr.predict(X_test)\n",
    "\n",
    "# Calculate metrics\n",
    "mse_lr = mean_squared_error(y_test, y_pred_lr)\n",
    "rmse_lr = np.sqrt(mse_lr)\n",
    "mae_lr = mean_absolute_error(y_test, y_pred_lr)\n",
    "mape_lr = np.mean(np.abs((y_test - y_pred_lr) / y_test)) * 100\n",
    "r2_lr = r2_score(y_test, y_pred_lr)\n",
    "\n",
    "# Print results\n",
    "print(\"Linear Regression (OLS)\")\n",
    "print(f'MSE: {mse_lr}')\n",
    "print(f'RMSE: {rmse_lr}')\n",
    "print(f'MAE: {mae_lr}')\n",
    "print(f'MAPE (%): {mape_lr}')\n",
    "print(f'R squared: {r2_lr}\\n')"
   ]
  },
  {
   "cell_type": "code",
   "execution_count": 12,
   "id": "30f46e35-9103-4a72-8b87-b40dd26c4508",
   "metadata": {},
   "outputs": [
    {
     "name": "stdout",
     "output_type": "stream",
     "text": [
      "SGD Regression\n",
      "MSE: 3149.3572813516266\n",
      "RMSE: 56.11913471670449\n",
      "MAE: 45.68527017148962\n",
      "MAPE (%): 41.2760415770079\n",
      "R squared: 0.41660286514465283\n",
      "\n"
     ]
    },
    {
     "name": "stderr",
     "output_type": "stream",
     "text": [
      "C:\\Users\\Omen\\anaconda3\\Lib\\site-packages\\sklearn\\linear_model\\_stochastic_gradient.py:1616: ConvergenceWarning: Maximum number of iteration reached before convergence. Consider increasing max_iter to improve the fit.\n",
      "  warnings.warn(\n"
     ]
    }
   ],
   "source": [
    "\n",
    "# SGD Regression\n",
    "sgd = SGDRegressor(max_iter=1000, tol=1e-3)\n",
    "sgd.fit(X_train, y_train)\n",
    "y_pred_sgd = sgd.predict(X_test)\n",
    "\n",
    "# Calculate metrics\n",
    "mse_sgd = mean_squared_error(y_test, y_pred_sgd)\n",
    "rmse_sgd = np.sqrt(mse_sgd)\n",
    "mae_sgd = mean_absolute_error(y_test, y_pred_sgd)\n",
    "mape_sgd = np.mean(np.abs((y_test - y_pred_sgd) / y_test)) * 100\n",
    "r2_sgd = r2_score(y_test, y_pred_sgd)\n",
    "\n",
    "# Print results\n",
    "print(\"SGD Regression\")\n",
    "print(f'MSE: {mse_sgd}')\n",
    "print(f'RMSE: {rmse_sgd}')\n",
    "print(f'MAE: {mae_sgd}')\n",
    "print(f'MAPE (%): {mape_sgd}')\n",
    "print(f'R squared: {r2_sgd}\\n')\n"
   ]
  },
  {
   "cell_type": "code",
   "execution_count": 29,
   "id": "9873b5d9-45e6-444b-a8c7-83242dc7b04b",
   "metadata": {},
   "outputs": [
    {
     "name": "stdout",
     "output_type": "stream",
     "text": [
      "Ridge Regression\n",
      "MSE: 3112.9664151980814\n",
      "RMSE: 55.79396396742287\n",
      "MAE: 45.46352769933713\n",
      "MAPE (%): 41.3132261326937\n",
      "R squared: 0.4233440269603015\n",
      "\n"
     ]
    }
   ],
   "source": [
    "from sklearn.linear_model import Ridge\n",
    "from sklearn.metrics import mean_squared_error, mean_absolute_error, r2_score\n",
    "import numpy as np\n",
    "\n",
    "# Ridge Regression\n",
    "try:\n",
    "    ridge = Ridge()\n",
    "    ridge.fit(X_train, y_train)\n",
    "    y_pred_ridge = ridge.predict(X_test)\n",
    "\n",
    "    # Calculate metrics\n",
    "    mse_ridge = mean_squared_error(y_test, y_pred_ridge)\n",
    "    rmse_ridge = np.sqrt(mse_ridge)\n",
    "    mae_ridge = mean_absolute_error(y_test, y_pred_ridge)\n",
    "    mape_ridge = np.mean(np.abs((y_test - y_pred_ridge) / y_test)) * 100\n",
    "    r2_ridge = r2_score(y_test, y_pred_ridge)\n",
    "\n",
    "    # Print results\n",
    "    print(\"Ridge Regression\")\n",
    "    print(f'MSE: {mse_ridge}')\n",
    "    print(f'RMSE: {rmse_ridge}')\n",
    "    print(f'MAE: {mae_ridge}')\n",
    "    print(f'MAPE (%): {mape_ridge}')\n",
    "    print(f'R squared: {r2_ridge}\\n')\n",
    "\n",
    "except Exception as e:\n",
    "    print(f\"An error occurred: {e}\")\n"
   ]
  },
  {
   "cell_type": "code",
   "execution_count": 16,
   "id": "65e275f2-bf27-4340-8d9a-47f1ae8117e3",
   "metadata": {},
   "outputs": [
    {
     "name": "stdout",
     "output_type": "stream",
     "text": [
      "Lasso Regression\n",
      "MSE: 3444.670824977634\n",
      "RMSE: 58.69131813971836\n",
      "MAE: 49.20790052364458\n",
      "MAPE (%): 45.343978184215736\n",
      "R squared: 0.36189802861957876\n",
      "\n"
     ]
    }
   ],
   "source": [
    "\n",
    "# Lasso Regression\n",
    "lasso = Lasso()\n",
    "lasso.fit(X_train, y_train)\n",
    "y_pred_lasso = lasso.predict(X_test)\n",
    "\n",
    "# Calculate metrics\n",
    "mse_lasso = mean_squared_error(y_test, y_pred_lasso)\n",
    "rmse_lasso = np.sqrt(mse_lasso)\n",
    "mae_lasso = mean_absolute_error(y_test, y_pred_lasso)\n",
    "mape_lasso = np.mean(np.abs((y_test - y_pred_lasso) / y_test)) * 100\n",
    "r2_lasso = r2_score(y_test, y_pred_lasso)\n",
    "\n",
    "# Print results\n",
    "print(\"Lasso Regression\")\n",
    "print(f'MSE: {mse_lasso}')\n",
    "print(f'RMSE: {rmse_lasso}')\n",
    "print(f'MAE: {mae_lasso}')\n",
    "print(f'MAPE (%): {mape_lasso}')\n",
    "print(f'R squared: {r2_lasso}\\n')\n"
   ]
  },
  {
   "cell_type": "code",
   "execution_count": 18,
   "id": "7404ce9b-d9a4-4215-bf97-be94a0cdee9d",
   "metadata": {},
   "outputs": [
    {
     "name": "stdout",
     "output_type": "stream",
     "text": [
      "Elastic Net\n",
      "MSE: 5381.535093816118\n",
      "RMSE: 73.3589469241218\n",
      "MAE: 63.935903555202415\n",
      "MAPE (%): 60.83828084682587\n",
      "R squared: 0.0031070233135319647\n",
      "\n"
     ]
    }
   ],
   "source": [
    "from sklearn.linear_model import ElasticNet\n",
    "\n",
    "# Elastic Net\n",
    "elastic_net = ElasticNet()\n",
    "elastic_net.fit(X_train, y_train)\n",
    "y_pred_en = elastic_net.predict(X_test)\n",
    "\n",
    "# Calculate metrics\n",
    "mse_en = mean_squared_error(y_test, y_pred_en)\n",
    "rmse_en = np.sqrt(mse_en)\n",
    "mae_en = mean_absolute_error(y_test, y_pred_en)\n",
    "mape_en = np.mean(np.abs((y_test - y_pred_en) / y_test)) * 100\n",
    "r2_en = r2_score(y_test, y_pred_en)\n",
    "\n",
    "# Print results\n",
    "print(\"Elastic Net\")\n",
    "print(f'MSE: {mse_en}')\n",
    "print(f'RMSE: {rmse_en}')\n",
    "print(f'MAE: {mae_en}')\n",
    "print(f'MAPE (%): {mape_en}')\n",
    "print(f'R squared: {r2_en}\\n')\n"
   ]
  },
  {
   "cell_type": "code",
   "execution_count": 20,
   "id": "d45c778c-9f08-4617-a703-a3c3e35af5e2",
   "metadata": {},
   "outputs": [
    {
     "name": "stdout",
     "output_type": "stream",
     "text": [
      "Polynomial Regression (Degree 2)\n",
      "MSE: 3168.9304439474345\n",
      "RMSE: 56.29325398258156\n",
      "MAE: 44.22139588944812\n",
      "MAPE (%): 38.71227049292864\n",
      "R squared: 0.4129770691620669\n",
      "\n"
     ]
    }
   ],
   "source": [
    "from sklearn.preprocessing import PolynomialFeatures\n",
    "from sklearn.pipeline import make_pipeline\n",
    "\n",
    "# Polynomial Regression (Degree 2)\n",
    "poly_reg = make_pipeline(PolynomialFeatures(degree=2), LinearRegression())\n",
    "poly_reg.fit(X_train, y_train)\n",
    "y_pred_poly = poly_reg.predict(X_test)\n",
    "\n",
    "# Calculate metrics\n",
    "mse_poly = mean_squared_error(y_test, y_pred_poly)\n",
    "rmse_poly = np.sqrt(mse_poly)\n",
    "mae_poly = mean_absolute_error(y_test, y_pred_poly)\n",
    "mape_poly = np.mean(np.abs((y_test - y_pred_poly) / y_test)) * 100\n",
    "r2_poly = r2_score(y_test, y_pred_poly)\n",
    "\n",
    "# Print results\n",
    "print(\"Polynomial Regression (Degree 2)\")\n",
    "print(f'MSE: {mse_poly}')\n",
    "print(f'RMSE: {rmse_poly}')\n",
    "print(f'MAE: {mae_poly}')\n",
    "print(f'MAPE (%): {mape_poly}')\n",
    "print(f'R squared: {r2_poly}\\n')\n"
   ]
  },
  {
   "cell_type": "code",
   "execution_count": 22,
   "id": "dfe22c9a-2338-4790-abc1-cf0aaa0b0726",
   "metadata": {},
   "outputs": [
    {
     "name": "stdout",
     "output_type": "stream",
     "text": [
      "k-Nearest Neighbors\n",
      "MSE: 3222.117894736842\n",
      "RMSE: 56.763702264183244\n",
      "MAE: 44.00300751879699\n",
      "MAPE (%): 37.99729841061306\n",
      "R squared: 0.4031244536507893\n",
      "\n"
     ]
    }
   ],
   "source": [
    "from sklearn.neighbors import KNeighborsRegressor\n",
    "\n",
    "# k-Nearest Neighbors\n",
    "knn = KNeighborsRegressor()\n",
    "knn.fit(X_train, y_train)\n",
    "y_pred_knn = knn.predict(X_test)\n",
    "\n",
    "# Calculate metrics\n",
    "mse_knn = mean_squared_error(y_test, y_pred_knn)\n",
    "rmse_knn = np.sqrt(mse_knn)\n",
    "mae_knn = mean_absolute_error(y_test, y_pred_knn)\n",
    "mape_knn = np.mean(np.abs((y_test - y_pred_knn) / y_test)) * 100\n",
    "r2_knn = r2_score(y_test, y_pred_knn)\n",
    "\n",
    "# Print results\n",
    "print(\"k-Nearest Neighbors\")\n",
    "print(f'MSE: {mse_knn}')\n",
    "print(f'RMSE: {rmse_knn}')\n",
    "print(f'MAE: {mae_knn}')\n",
    "print(f'MAPE (%): {mape_knn}')\n",
    "print(f'R squared: {r2_knn}\\n')\n"
   ]
  },
  {
   "cell_type": "code",
   "execution_count": 24,
   "id": "7ffa736f-bcb8-4d49-88ef-40a12da81b27",
   "metadata": {},
   "outputs": [
    {
     "name": "stdout",
     "output_type": "stream",
     "text": [
      "Decision Tree\n",
      "MSE: 5943.315789473684\n",
      "RMSE: 77.09290362590895\n",
      "MAE: 60.11278195488722\n",
      "MAPE (%): 56.5686488894694\n",
      "R squared: -0.10095905080398104\n",
      "\n"
     ]
    }
   ],
   "source": [
    "from sklearn.tree import DecisionTreeRegressor\n",
    "\n",
    "# Decision Tree\n",
    "dt = DecisionTreeRegressor()\n",
    "dt.fit(X_train, y_train)\n",
    "y_pred_dt = dt.predict(X_test)\n",
    "\n",
    "# Calculate metrics\n",
    "mse_dt = mean_squared_error(y_test, y_pred_dt)\n",
    "rmse_dt = np.sqrt(mse_dt)\n",
    "mae_dt = mean_absolute_error(y_test, y_pred_dt)\n",
    "mape_dt = np.mean(np.abs((y_test - y_pred_dt) / y_test)) * 100\n",
    "r2_dt = r2_score(y_test, y_pred_dt)\n",
    "\n",
    "# Print results\n",
    "print(\"Decision Tree\")\n",
    "print(f'MSE: {mse_dt}')\n",
    "print(f'RMSE: {rmse_dt}')\n",
    "print(f'MAE: {mae_dt}')\n",
    "print(f'MAPE (%): {mape_dt}')\n",
    "print(f'R squared: {r2_dt}\\n')\n"
   ]
  },
  {
   "cell_type": "code",
   "execution_count": 26,
   "id": "285492f4-f509-4410-96e9-a97c569b5900",
   "metadata": {},
   "outputs": [
    {
     "name": "stdout",
     "output_type": "stream",
     "text": [
      "Random Forest\n",
      "MSE: 3010.3552398496245\n",
      "RMSE: 54.866704291852855\n",
      "MAE: 44.182932330827065\n",
      "MAPE (%): 39.32780192742337\n",
      "R squared: 0.44235205315564563\n",
      "\n"
     ]
    }
   ],
   "source": [
    "\n",
    "# Random Forest\n",
    "rf = RandomForestRegressor(n_estimators=100)\n",
    "rf.fit(X_train, y_train)\n",
    "y_pred_rf = rf.predict(X_test)\n",
    "\n",
    "# Calculate metrics\n",
    "mse_rf = mean_squared_error(y_test, y_pred_rf)\n",
    "rmse_rf = np.sqrt(mse_rf)\n",
    "mae_rf = mean_absolute_error(y_test, y_pred_rf)\n",
    "mape_rf = np.mean(np.abs((y_test - y_pred_rf) / y_test)) * 100\n",
    "r2_rf = r2_score(y_test, y_pred_rf)\n",
    "\n",
    "# Print results\n",
    "print(\"Random Forest\")\n",
    "print(f'MSE: {mse_rf}')\n",
    "print(f'RMSE: {rmse_rf}')\n",
    "print(f'MAE: {mae_rf}')\n",
    "print(f'MAPE (%): {mape_rf}')\n",
    "print(f'R squared: {r2_rf}\\n')\n"
   ]
  },
  {
   "cell_type": "code",
   "execution_count": 39,
   "id": "e19d2661-f021-4036-a2a7-4580d1e29062",
   "metadata": {},
   "outputs": [
    {
     "name": "stderr",
     "output_type": "stream",
     "text": [
      "C:\\Users\\Omen\\anaconda3\\Lib\\site-packages\\sklearn\\linear_model\\_stochastic_gradient.py:1616: ConvergenceWarning: Maximum number of iteration reached before convergence. Consider increasing max_iter to improve the fit.\n",
      "  warnings.warn(\n"
     ]
    },
    {
     "name": "stdout",
     "output_type": "stream",
     "text": [
      "                              Model          MSE       RMSE        MAE  \\\n",
      "0           Linear Regression (OLS)  2821.750981  53.120156  41.919378   \n",
      "1                    SGD Regression  3149.200441  56.117737  45.683157   \n",
      "2                  Ridge Regression  3112.966415  55.793964  45.463528   \n",
      "3                  Lasso Regression  3444.670825  58.691318  49.207901   \n",
      "4                       Elastic Net  5381.535094  73.358947  63.935904   \n",
      "5  Polynomial Regression (Degree 2)  3168.930444  56.293254  44.221396   \n",
      "6               k-Nearest Neighbors  3222.117895  56.763702  44.003008   \n",
      "7                     Decision Tree  5455.481203  73.861229  57.721805   \n",
      "8                     Random Forest  2912.564384  53.968179  43.440075   \n",
      "9            Support Vector Machine  4525.810200  67.274142  56.414721   \n",
      "\n",
      "    MAPE (%)  R squared  \n",
      "0  36.671963   0.477290  \n",
      "1  41.277265   0.416632  \n",
      "2  41.313226   0.423344  \n",
      "3  45.343978   0.361898  \n",
      "4  60.838281   0.003107  \n",
      "5  38.712270   0.412977  \n",
      "6  37.997298   0.403124  \n",
      "7  51.793865  -0.010591  \n",
      "8  38.853499   0.460467  \n",
      "9  48.626105   0.161624  \n"
     ]
    }
   ],
   "source": [
    "# Define regression models\n",
    "models = {\n",
    "    'Linear Regression (OLS)': LinearRegression(),\n",
    "    'SGD Regression': SGDRegressor(max_iter=1000, tol=1e-3),\n",
    "    'Ridge Regression': Ridge(),\n",
    "    'Lasso Regression': Lasso(),\n",
    "    'Elastic Net': ElasticNet(),\n",
    "    'Polynomial Regression (Degree 2)': make_pipeline(PolynomialFeatures(degree=2), LinearRegression()),\n",
    "    'k-Nearest Neighbors': KNeighborsRegressor(),\n",
    "    'Decision Tree': DecisionTreeRegressor(),\n",
    "    'Random Forest': RandomForestRegressor(n_estimators=100),\n",
    "    'Support Vector Machine': SVR(),\n",
    "\n",
    "}\n",
    "\n",
    "# Initialize list to store results\n",
    "results = []\n",
    "\n",
    "# Evaluation function\n",
    "def evaluate_model(model, X_train, X_test, y_train, y_test):\n",
    "    model.fit(X_train, y_train)\n",
    "    y_pred = model.predict(X_test)\n",
    "    \n",
    "    mse = mean_squared_error(y_test, y_pred)\n",
    "    rmse = np.sqrt(mse)\n",
    "    mae = mean_absolute_error(y_test, y_pred)\n",
    "    mape = np.mean(np.abs((y_test - y_pred) / y_test)) * 100\n",
    "    r2 = r2_score(y_test, y_pred)\n",
    "    \n",
    "    return mse, rmse, mae, mape, r2\n",
    "\n",
    "# Evaluate each model\n",
    "for name, model in models.items():\n",
    "    mse, rmse, mae, mape, r2 = evaluate_model(model, X_train, X_test, y_train, y_test)\n",
    "    \n",
    "    results.append({\n",
    "        'Model': name,\n",
    "        'MSE': mse,\n",
    "        'RMSE': rmse,\n",
    "        'MAE': mae,\n",
    "        'MAPE (%)': mape,\n",
    "        'R squared': r2\n",
    "    })\n",
    "\n",
    "# Create a DataFrame with the results\n",
    "results_df = pd.DataFrame(results)\n",
    "\n",
    "# Display the results\n",
    "print(results_df)"
   ]
  },
  {
   "cell_type": "code",
   "execution_count": null,
   "id": "02d449bd-201e-4261-a094-910d121bf785",
   "metadata": {},
   "outputs": [],
   "source": []
  },
  {
   "cell_type": "code",
   "execution_count": null,
   "id": "bdd8e3c9-d08d-4888-9d2b-f036200fd32b",
   "metadata": {},
   "outputs": [],
   "source": []
  }
 ],
 "metadata": {
  "kernelspec": {
   "display_name": "Python 3 (ipykernel)",
   "language": "python",
   "name": "python3"
  },
  "language_info": {
   "codemirror_mode": {
    "name": "ipython",
    "version": 3
   },
   "file_extension": ".py",
   "mimetype": "text/x-python",
   "name": "python",
   "nbconvert_exporter": "python",
   "pygments_lexer": "ipython3",
   "version": "3.11.9"
  }
 },
 "nbformat": 4,
 "nbformat_minor": 5
}
